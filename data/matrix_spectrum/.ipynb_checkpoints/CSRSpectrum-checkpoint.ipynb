{
 "cells": [
  {
   "cell_type": "code",
   "execution_count": 3,
   "metadata": {},
   "outputs": [],
   "source": [
    "import numpy as np\n",
    "import scipy.sparse as sps\n",
    "import matplotlib.pyplot as plt\n",
    "import scikits.umfpack\n",
    "from scipy.sparse.linalg import eigs, LinearOperator\n",
    "%matplotlib inline"
   ]
  },
  {
   "cell_type": "code",
   "execution_count": 4,
   "metadata": {},
   "outputs": [],
   "source": [
    "with open('matrix_40_90.txt', 'r') as f:\n",
    "    n = int(f.readline())\n",
    "    data = f.readlines()\n",
    "    data = [x.rstrip().split() for x in data]\n",
    "    ia = []\n",
    "    k = 0\n",
    "    while len(ia) < n+1:\n",
    "        ia += data[k]\n",
    "        k += 1\n",
    "    ia = [int(x)-1 for x in ia]\n",
    "    nnz = ia[-1]\n",
    "    ja = []    \n",
    "    while len(ja) < nnz:\n",
    "        ja += data[k]\n",
    "        k += 1\n",
    "    ja = [int(x)-1 for x in ja]\n",
    "    a = []    \n",
    "    while len(a) < nnz:\n",
    "        a += data[k]\n",
    "        k += 1\n",
    "    a = [float(x) for x in a]"
   ]
  },
  {
   "cell_type": "code",
   "execution_count": 5,
   "metadata": {},
   "outputs": [],
   "source": [
    "A = sps.csr_matrix((a, ja, ia))"
   ]
  },
  {
   "cell_type": "code",
   "execution_count": 6,
   "metadata": {},
   "outputs": [
    {
     "data": {
      "text/plain": [
       "<matplotlib.lines.Line2D at 0x7fd7ab1faa90>"
      ]
     },
     "execution_count": 6,
     "metadata": {},
     "output_type": "execute_result"
    },
    {
     "data": {
      "image/png": "[encoded data removed]",
      "text/plain": [
       "<matplotlib.figure.Figure at 0x7fd7ab32f550>"
      ]
     },
     "metadata": {},
     "output_type": "display_data"
    }
   ],
   "source": [
    "plt.figure(figsize=(10, 10))\n",
    "plt.spy(A, markersize=1)"
   ]
  },
  {
   "cell_type": "code",
   "execution_count": 7,
   "metadata": {},
   "outputs": [
    {
     "data": {
      "text/plain": [
       "6.738211382113821"
      ]
     },
     "execution_count": 7,
     "metadata": {},
     "output_type": "execute_result"
    }
   ],
   "source": [
    "nnz / n"
   ]
  },
  {
   "cell_type": "code",
   "execution_count": 8,
   "metadata": {},
   "outputs": [],
   "source": [
    "class OpInv(LinearOperator):\n",
    "    \"\"\"\n",
    "    Solve (A - sigma I) x = f\n",
    "    \"\"\"\n",
    "    def __init__(self, A, sigma):\n",
    "        As = A - sigma * sps.eye(A.shape[0])\n",
    "        \n",
    "        self.LU = scikits.umfpack.splu(As)\n",
    "        \n",
    "        self.shape = A.shape\n",
    "        self.dtype = A.dtype\n",
    "        \n",
    "    def _matvec(self, w):\n",
    "        return self.LU.solve(w)"
   ]
  },
  {
   "cell_type": "code",
   "execution_count": 9,
   "metadata": {},
   "outputs": [
    {
     "data": {
      "text/plain": [
       "array([269.03471065+0.j, 269.03471065+0.j, 269.03471065+0.j,\n",
       "       269.03471065+0.j, 269.03471065+0.j, 269.03471065+0.j,\n",
       "       269.03471065+0.j, 269.03471065+0.j, 269.03471065+0.j,\n",
       "       269.03471065+0.j])"
      ]
     },
     "execution_count": 9,
     "metadata": {},
     "output_type": "execute_result"
    }
   ],
   "source": [
    "eigs(A, k=10, which='LM', return_eigenvectors=False)"
   ]
  },
  {
   "cell_type": "code",
   "execution_count": 10,
   "metadata": {},
   "outputs": [
    {
     "data": {
      "text/plain": [
       "array([1.0002537 +0.j, 1.00023917+0.j, 1.00021747+0.j, 1.00021747+0.j,\n",
       "       1.00019731+0.j, 1.00017708+0.j, 1.0001496 +0.j, 1.00011271+0.j,\n",
       "       1.00005803+0.j, 1.00002055+0.j])"
      ]
     },
     "execution_count": 10,
     "metadata": {},
     "output_type": "execute_result"
    }
   ],
   "source": [
    "sigma = 0\n",
    "Op = OpInv(A, sigma)\n",
    "eigs(A, k=10, sigma=sigma, which='LM', return_eigenvectors=False, OPinv=Op)"
   ]
  },
  {
   "cell_type": "code",
   "execution_count": null,
   "metadata": {},
   "outputs": [],
   "source": [
    "Afull = A.todense()"
   ]
  },
  {
   "cell_type": "code",
   "execution_count": null,
   "metadata": {},
   "outputs": [],
   "source": [
    "vals = np.linalg.eigvals(Afull)"
   ]
  },
  {
   "cell_type": "code",
   "execution_count": null,
   "metadata": {},
   "outputs": [],
   "source": [
    "plt.figure(figsize=(18, 8))\n",
    "plt.plot(np.real(vals), np.imag(vals), 'r.')\n",
    "plt.xlim(0, 50)"
   ]
  },
  {
   "cell_type": "code",
   "execution_count": null,
   "metadata": {},
   "outputs": [],
   "source": [
    "plt.plot(np.real(vals), '.')"
   ]
  },
  {
   "cell_type": "code",
   "execution_count": null,
   "metadata": {
    "collapsed": true
   },
   "outputs": [],
   "source": []
  }
 ],
 "metadata": {
  "anaconda-cloud": {},
  "kernelspec": {
   "display_name": "Python 3",
   "language": "python",
   "name": "python3"
  },
  "language_info": {
   "codemirror_mode": {
    "name": "ipython",
    "version": 3
   },
   "file_extension": ".py",
   "mimetype": "text/x-python",
   "name": "python",
   "nbconvert_exporter": "python",
   "pygments_lexer": "ipython3",
   "version": "3.6.4"
  }
 },
 "nbformat": 4,
 "nbformat_minor": 1
}
